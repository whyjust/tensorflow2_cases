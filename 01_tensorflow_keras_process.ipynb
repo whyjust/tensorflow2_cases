{
 "cells": [
  {
   "cell_type": "markdown",
   "metadata": {},
   "source": [
    "## TensorFlow2教程-Keras概述\n",
    "\n",
    "Keras 是一个用于构建和训练深度学习模型的高阶 API。它可用于快速设计原型、高级研究和生产。\n",
    "\n",
    "Keras的3个优点：\n",
    "方便用户使用、模块化和可组合、易于扩展\n",
    "\n",
    "\n",
    "##  1 导入tf.keras\n",
    "TensorFlow2推荐使用tf.keras构建网络，常见的神经网络都包含在tf.keras.layer中(最新的tf.keras的版本可能和keras不同)"
   ]
  },
  {
   "cell_type": "code",
   "execution_count": 1,
   "metadata": {},
   "outputs": [
    {
     "name": "stdout",
     "output_type": "stream",
     "text": [
      "2.8.0\n",
      "2.8.0\n"
     ]
    }
   ],
   "source": [
    "import tensorflow as tf\n",
    "from tensorflow.keras import layers\n",
    "print(tf.__version__)\n",
    "print(tf.keras.__version__)"
   ]
  },
  {
   "cell_type": "markdown",
   "metadata": {},
   "source": [
    "## 2 构建简单模型\n",
    "### 2.1 模型堆叠\n",
    "最常见的模型类型是层的堆叠：tf.keras.Sequential 模型"
   ]
  },
  {
   "cell_type": "code",
   "execution_count": 2,
   "metadata": {},
   "outputs": [],
   "source": [
    "model = tf.keras.Sequential()\n",
    "model.add(layers.Dense(64, activation='relu'))\n",
    "model.add(layers.Dense(32, activation='relu'))\n",
    "model.add(layers.Dense(10, activation='softmax'))"
   ]
  },
  {
   "cell_type": "markdown",
   "metadata": {},
   "source": [
    "### 2.2 网络配置\n",
    "\n",
    "tf.keras.layers中主要的网络配置参数如下：\n",
    "\n",
    "activation：设置层的激活函数。此参数可以是函数名称字符串，也可以是函数对象。默认情况下，系统不会应用任何激活函数。\n",
    "\n",
    "kernel_initializer 和 bias_initializer：创建层权重（核和偏置）的初始化方案。此参数是一个名称或可调用的函数对象，默认为 \"Glorot uniform\" 初始化器。\n",
    "\n",
    "kernel_regularizer 和 bias_regularizer：应用层权重（核和偏置）的正则化方案，例如 L1 或 L2 正则化。默认情况下，系统不会应用正则化函数。"
   ]
  },
  {
   "cell_type": "code",
   "execution_count": 3,
   "metadata": {},
   "outputs": [
    {
     "data": {
      "text/plain": [
       "<keras.layers.core.dense.Dense at 0x13fa6cb2088>"
      ]
     },
     "execution_count": 3,
     "metadata": {},
     "output_type": "execute_result"
    }
   ],
   "source": [
    "layers.Dense(32, activation='sigmoid')\n",
    "layers.Dense(32, activation=tf.sigmoid)\n",
    "layers.Dense(32, kernel_initializer='orthogonal')\n",
    "layers.Dense(32, kernel_initializer=tf.keras.initializers.glorot_normal)\n",
    "layers.Dense(32, kernel_regularizer=tf.keras.regularizers.l2(0.01))\n",
    "layers.Dense(32, kernel_regularizer=tf.keras.regularizers.l1(0.01))"
   ]
  },
  {
   "cell_type": "markdown",
   "metadata": {},
   "source": [
    "## 3 训练和评估\n",
    "### 3.1 设置训练流程\n",
    "构建好模型后，通过调用 compile 方法配置该模型的学习流程："
   ]
  },
  {
   "cell_type": "code",
   "execution_count": 4,
   "metadata": {},
   "outputs": [],
   "source": [
    "model = tf.keras.Sequential()\n",
    "model.add(layers.Dense(32, activation='relu'))\n",
    "model.add(layers.Dense(32, activation='relu'))\n",
    "model.add(layers.Dense(10, activation='softmax'))\n",
    "model.compile(\n",
    "    optimizer=tf.keras.optimizers.Adam(0.001),\n",
    "    loss=tf.keras.losses.categorical_crossentropy,\n",
    "    metrics=[tf.keras.metrics.categorical_accuracy]\n",
    ")"
   ]
  },
  {
   "cell_type": "markdown",
   "metadata": {},
   "source": [
    "### 3.2 输入Numpy数据\n",
    "对于小型数据集，可以使用Numpy构建输入数据。"
   ]
  },
  {
   "cell_type": "code",
   "execution_count": 5,
   "metadata": {},
   "outputs": [
    {
     "name": "stdout",
     "output_type": "stream",
     "text": [
      "Epoch 1/10\n",
      "10/10 [==============================] - 1s 20ms/step - loss: 11.6599 - categorical_accuracy: 0.0900 - val_loss: 11.4832 - val_categorical_accuracy: 0.1300\n",
      "Epoch 2/10\n",
      "10/10 [==============================] - 0s 4ms/step - loss: 11.7889 - categorical_accuracy: 0.1030 - val_loss: 11.8302 - val_categorical_accuracy: 0.1200\n",
      "Epoch 3/10\n",
      "10/10 [==============================] - 0s 5ms/step - loss: 12.4421 - categorical_accuracy: 0.1040 - val_loss: 13.0340 - val_categorical_accuracy: 0.1500\n",
      "Epoch 4/10\n",
      "10/10 [==============================] - 0s 5ms/step - loss: 14.4235 - categorical_accuracy: 0.0940 - val_loss: 16.1756 - val_categorical_accuracy: 0.1700\n",
      "Epoch 5/10\n",
      "10/10 [==============================] - 0s 4ms/step - loss: 18.5743 - categorical_accuracy: 0.0940 - val_loss: 21.3999 - val_categorical_accuracy: 0.1300\n",
      "Epoch 6/10\n",
      "10/10 [==============================] - 0s 4ms/step - loss: 24.5563 - categorical_accuracy: 0.0870 - val_loss: 28.0612 - val_categorical_accuracy: 0.1100\n",
      "Epoch 7/10\n",
      "10/10 [==============================] - 0s 4ms/step - loss: 31.1930 - categorical_accuracy: 0.0830 - val_loss: 34.8596 - val_categorical_accuracy: 0.1500\n",
      "Epoch 8/10\n",
      "10/10 [==============================] - 0s 4ms/step - loss: 39.4181 - categorical_accuracy: 0.0900 - val_loss: 45.3608 - val_categorical_accuracy: 0.1150\n",
      "Epoch 9/10\n",
      "10/10 [==============================] - 0s 5ms/step - loss: 51.5595 - categorical_accuracy: 0.0900 - val_loss: 58.6416 - val_categorical_accuracy: 0.1150\n",
      "Epoch 10/10\n",
      "10/10 [==============================] - 0s 6ms/step - loss: 65.1575 - categorical_accuracy: 0.0870 - val_loss: 72.8458 - val_categorical_accuracy: 0.1100\n"
     ]
    },
    {
     "data": {
      "text/plain": [
       "<keras.callbacks.History at 0x13fa6e54288>"
      ]
     },
     "execution_count": 5,
     "metadata": {},
     "output_type": "execute_result"
    }
   ],
   "source": [
    "import numpy as np\n",
    "\n",
    "train_x = np.random.random((1000, 72))\n",
    "train_y = np.random.random((1000, 10))\n",
    "val_x = np.random.random((200, 72))\n",
    "val_y = np.random.random((200, 10))\n",
    "model.fit(train_x, train_y, epochs=10, batch_size=100,\n",
    "          validation_data=(val_x, val_y))"
   ]
  },
  {
   "cell_type": "markdown",
   "metadata": {},
   "source": [
    "### 3.3 tf.data输入数据\n",
    "对于大型数据集可以使用tf.data构建训练输入。"
   ]
  },
  {
   "cell_type": "code",
   "execution_count": 7,
   "metadata": {},
   "outputs": [
    {
     "name": "stdout",
     "output_type": "stream",
     "text": [
      "Epoch 1/10\n",
      "30/30 [==============================] - 0s 7ms/step - loss: 96.0555 - categorical_accuracy: 0.0948 - val_loss: 125.4274 - val_categorical_accuracy: 0.1250\n",
      "Epoch 2/10\n",
      "30/30 [==============================] - 0s 2ms/step - loss: 159.0904 - categorical_accuracy: 0.0929 - val_loss: 203.0643 - val_categorical_accuracy: 0.1250\n",
      "Epoch 3/10\n",
      "30/30 [==============================] - 0s 3ms/step - loss: 242.9147 - categorical_accuracy: 0.0951 - val_loss: 296.2151 - val_categorical_accuracy: 0.1250\n",
      "Epoch 4/10\n",
      "30/30 [==============================] - 0s 3ms/step - loss: 338.8953 - categorical_accuracy: 0.0983 - val_loss: 397.7326 - val_categorical_accuracy: 0.1146\n",
      "Epoch 5/10\n",
      "30/30 [==============================] - 0s 3ms/step - loss: 440.1417 - categorical_accuracy: 0.0876 - val_loss: 502.6749 - val_categorical_accuracy: 0.0521\n",
      "Epoch 6/10\n",
      "30/30 [==============================] - 0s 3ms/step - loss: 544.6055 - categorical_accuracy: 0.0962 - val_loss: 621.9797 - val_categorical_accuracy: 0.1146\n",
      "Epoch 7/10\n",
      "30/30 [==============================] - 0s 3ms/step - loss: 670.2457 - categorical_accuracy: 0.0908 - val_loss: 748.2317 - val_categorical_accuracy: 0.1146\n",
      "Epoch 8/10\n",
      "30/30 [==============================] - 0s 3ms/step - loss: 789.8904 - categorical_accuracy: 0.0908 - val_loss: 875.6036 - val_categorical_accuracy: 0.0521\n",
      "Epoch 9/10\n",
      "30/30 [==============================] - 0s 2ms/step - loss: 908.6281 - categorical_accuracy: 0.0897 - val_loss: 993.8901 - val_categorical_accuracy: 0.1042\n",
      "Epoch 10/10\n",
      "30/30 [==============================] - 0s 3ms/step - loss: 1009.5283 - categorical_accuracy: 0.0897 - val_loss: 1112.9863 - val_categorical_accuracy: 0.1771\n"
     ]
    },
    {
     "data": {
      "text/plain": [
       "<keras.callbacks.History at 0x13fa80ebe08>"
      ]
     },
     "execution_count": 7,
     "metadata": {},
     "output_type": "execute_result"
    }
   ],
   "source": [
    "datasets = tf.data.Dataset.from_tensor_slices((train_x, train_y)).batch(32)\n",
    "datasets = datasets.repeat()\n",
    "val_datasets = tf.data.Dataset.from_tensor_slices((val_x, val_y)).batch(32)\n",
    "val_datasets = val_datasets.repeat()\n",
    "\n",
    "model.fit(datasets, epochs=10, steps_per_epoch=30, validation_data=val_datasets, validation_steps=3)"
   ]
  },
  {
   "cell_type": "markdown",
   "metadata": {},
   "source": [
    "### 3.4 评估与预测\n",
    "评估和预测函数：tf.keras.Model.evaluate和tf.keras.Model.predict方法，都可以可以使用NumPy和tf.data.Dataset构造的输入数据进行评估和预测"
   ]
  },
  {
   "cell_type": "code",
   "execution_count": 8,
   "metadata": {},
   "outputs": [
    {
     "name": "stdout",
     "output_type": "stream",
     "text": [
      "32/32 [==============================] - 0s 1ms/step - loss: 1078.6410 - categorical_accuracy: 0.1190\n",
      "30/30 [==============================] - 0s 2ms/step - loss: 1074.1073 - categorical_accuracy: 0.1208\n"
     ]
    },
    {
     "data": {
      "text/plain": [
       "[1074.1072998046875, 0.12083332985639572]"
      ]
     },
     "execution_count": 8,
     "metadata": {},
     "output_type": "execute_result"
    }
   ],
   "source": [
    "# 模型评估\n",
    "test_x = np.random.random((1000, 72))\n",
    "test_y = np.random.random((1000, 10))\n",
    "model.evaluate(test_x, test_y, batch_size=32)\n",
    "test_data = tf.data.Dataset.from_tensor_slices((test_x, test_y))\n",
    "test_data = test_data.batch(32).repeat()\n",
    "model.evaluate(test_data, steps=30)"
   ]
  },
  {
   "cell_type": "code",
   "execution_count": 9,
   "metadata": {},
   "outputs": [
    {
     "name": "stdout",
     "output_type": "stream",
     "text": [
      "[[0.         0.16240874 0.08368254 ... 0.00671651 0.         0.        ]\n",
      " [0.         0.08923861 0.05535543 ... 0.00927343 0.         0.        ]\n",
      " [0.         0.15965922 0.06607018 ... 0.00557643 0.         0.        ]\n",
      " ...\n",
      " [0.         0.12314524 0.06737925 ... 0.00542385 0.         0.        ]\n",
      " [0.         0.15415026 0.08174875 ... 0.00448536 0.         0.        ]\n",
      " [0.         0.13542601 0.07227626 ... 0.00791746 0.         0.        ]]\n"
     ]
    }
   ],
   "source": [
    "# 模型预测\n",
    "result = model.predict(test_x, batch_size=32)\n",
    "print(result)"
   ]
  },
  {
   "cell_type": "markdown",
   "metadata": {},
   "source": [
    "## 4 构建复杂模型\n",
    "\n",
    "### 4.1 函数式API\n",
    "tf.keras.Sequential 模型是层的简单堆叠，无法表示任意模型。使用 Keras的函数式API可以构建复杂的模型拓扑，例如：\n",
    "\n",
    "- 多输入模型，\n",
    "\n",
    "- 多输出模型，\n",
    "\n",
    "- 具有共享层的模型（同一层被调用多次），\n",
    "\n",
    "- 具有非序列数据流的模型（例如，残差连接）。\n",
    "\n",
    "**使用函数式 API 构建的模型具有以下特征：**\n",
    "\n",
    "- 层实例可调用并返回张量。\n",
    "- 输入张量和输出张量用于定义 tf.keras.Model 实例。\n",
    "- 此模型的训练方式和 Sequential 模型一样。"
   ]
  },
  {
   "cell_type": "code",
   "execution_count": null,
   "metadata": {},
   "outputs": [],
   "source": [
    "input_x = tf.keras.Input(shape=(72, ))\n",
    "hidden1 = layers.Dense(32, activation='relu')(input_x)\n",
    "hidden2 = layers.Dense(16, activation='relu')(hidden1)\n"
   ]
  }
 ],
 "metadata": {
  "kernelspec": {
   "display_name": "Python 3.7.6 ('deeplearning')",
   "language": "python",
   "name": "python3"
  },
  "language_info": {
   "codemirror_mode": {
    "name": "ipython",
    "version": 3
   },
   "file_extension": ".py",
   "mimetype": "text/x-python",
   "name": "python",
   "nbconvert_exporter": "python",
   "pygments_lexer": "ipython3",
   "version": "3.7.6"
  },
  "orig_nbformat": 4,
  "vscode": {
   "interpreter": {
    "hash": "023baaff37797eaa8a2f2e10f49c0d526f113c2d8305b50570fb7b5099158b73"
   }
  }
 },
 "nbformat": 4,
 "nbformat_minor": 2
}

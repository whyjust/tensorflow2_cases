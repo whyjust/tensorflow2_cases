{
 "cells": [
  {
   "cell_type": "markdown",
   "metadata": {},
   "source": [
    "## TensorFlow2教程-Keras概述\n",
    "\n",
    "Keras 是一个用于构建和训练深度学习模型的高阶 API。它可用于快速设计原型、高级研究和生产。\n",
    "\n",
    "Keras的3个优点：\n",
    "方便用户使用、模块化和可组合、易于扩展\n",
    "\n",
    "\n",
    "##  1 导入tf.keras\n",
    "TensorFlow2推荐使用tf.keras构建网络，常见的神经网络都包含在tf.keras.layer中(最新的tf.keras的版本可能和keras不同)"
   ]
  },
  {
   "cell_type": "code",
   "execution_count": 1,
   "metadata": {},
   "outputs": [
    {
     "name": "stdout",
     "output_type": "stream",
     "text": [
      "2.8.0\n",
      "2.8.0\n"
     ]
    }
   ],
   "source": [
    "import tensorflow as tf\n",
    "from tensorflow.keras import layers\n",
    "print(tf.__version__)\n",
    "print(tf.keras.__version__)"
   ]
  },
  {
   "cell_type": "markdown",
   "metadata": {},
   "source": [
    "## 2 构建简单模型\n",
    "### 2.1 模型堆叠\n",
    "最常见的模型类型是层的堆叠：tf.keras.Sequential 模型"
   ]
  },
  {
   "cell_type": "code",
   "execution_count": 2,
   "metadata": {},
   "outputs": [],
   "source": [
    "model = tf.keras.Sequential()\n",
    "model.add(layers.Dense(64, activation='relu'))\n",
    "model.add(layers.Dense(32, activation='relu'))\n",
    "model.add(layers.Dense(10, activation='softmax'))"
   ]
  },
  {
   "cell_type": "markdown",
   "metadata": {},
   "source": [
    "### 2.2 网络配置\n",
    "\n",
    "tf.keras.layers中主要的网络配置参数如下：\n",
    "\n",
    "activation：设置层的激活函数。此参数可以是函数名称字符串，也可以是函数对象。默认情况下，系统不会应用任何激活函数。\n",
    "\n",
    "kernel_initializer 和 bias_initializer：创建层权重（核和偏置）的初始化方案。此参数是一个名称或可调用的函数对象，默认为 \"Glorot uniform\" 初始化器。\n",
    "\n",
    "kernel_regularizer 和 bias_regularizer：应用层权重（核和偏置）的正则化方案，例如 L1 或 L2 正则化。默认情况下，系统不会应用正则化函数。"
   ]
  },
  {
   "cell_type": "code",
   "execution_count": 3,
   "metadata": {},
   "outputs": [
    {
     "data": {
      "text/plain": [
       "<keras.layers.core.dense.Dense at 0x1bda58a16c8>"
      ]
     },
     "execution_count": 3,
     "metadata": {},
     "output_type": "execute_result"
    }
   ],
   "source": [
    "layers.Dense(32, activation='sigmoid')\n",
    "layers.Dense(32, activation=tf.sigmoid)\n",
    "layers.Dense(32, kernel_initializer='orthogonal')\n",
    "layers.Dense(32, kernel_initializer=tf.keras.initializers.glorot_normal)\n",
    "layers.Dense(32, kernel_regularizer=tf.keras.regularizers.l2(0.01))\n",
    "layers.Dense(32, kernel_regularizer=tf.keras.regularizers.l1(0.01))"
   ]
  },
  {
   "cell_type": "markdown",
   "metadata": {},
   "source": [
    "## 3 训练和评估\n",
    "### 3.1 设置训练流程\n",
    "构建好模型后，通过调用 compile 方法配置该模型的学习流程："
   ]
  },
  {
   "cell_type": "code",
   "execution_count": 4,
   "metadata": {},
   "outputs": [],
   "source": [
    "model = tf.keras.Sequential()\n",
    "model.add(layers.Dense(32, activation='relu'))\n",
    "model.add(layers.Dense(32, activation='relu'))\n",
    "model.add(layers.Dense(10, activation='softmax'))\n",
    "model.compile(\n",
    "    optimizer=tf.keras.optimizers.Adam(0.001),\n",
    "    loss=tf.keras.losses.categorical_crossentropy,\n",
    "    metrics=[tf.keras.metrics.categorical_accuracy]\n",
    ")"
   ]
  },
  {
   "cell_type": "markdown",
   "metadata": {},
   "source": [
    "### 3.2 输入Numpy数据\n",
    "对于小型数据集，可以使用Numpy构建输入数据。"
   ]
  },
  {
   "cell_type": "code",
   "execution_count": 5,
   "metadata": {},
   "outputs": [
    {
     "name": "stdout",
     "output_type": "stream",
     "text": [
      "Epoch 1/10\n",
      "10/10 [==============================] - 1s 20ms/step - loss: 11.9200 - categorical_accuracy: 0.0940 - val_loss: 12.1965 - val_categorical_accuracy: 0.1150\n",
      "Epoch 2/10\n",
      "10/10 [==============================] - 0s 5ms/step - loss: 12.4760 - categorical_accuracy: 0.0820 - val_loss: 13.1342 - val_categorical_accuracy: 0.1250\n",
      "Epoch 3/10\n",
      "10/10 [==============================] - 0s 5ms/step - loss: 13.8033 - categorical_accuracy: 0.0880 - val_loss: 14.9594 - val_categorical_accuracy: 0.1300\n",
      "Epoch 4/10\n",
      "10/10 [==============================] - 0s 4ms/step - loss: 16.1865 - categorical_accuracy: 0.0860 - val_loss: 17.9014 - val_categorical_accuracy: 0.1300\n",
      "Epoch 5/10\n",
      "10/10 [==============================] - 0s 3ms/step - loss: 19.5113 - categorical_accuracy: 0.0860 - val_loss: 21.7283 - val_categorical_accuracy: 0.1350\n",
      "Epoch 6/10\n",
      "10/10 [==============================] - 0s 3ms/step - loss: 24.1679 - categorical_accuracy: 0.0850 - val_loss: 27.3839 - val_categorical_accuracy: 0.1300\n",
      "Epoch 7/10\n",
      "10/10 [==============================] - 0s 4ms/step - loss: 30.6501 - categorical_accuracy: 0.0850 - val_loss: 34.7074 - val_categorical_accuracy: 0.1250\n",
      "Epoch 8/10\n",
      "10/10 [==============================] - 0s 3ms/step - loss: 38.8617 - categorical_accuracy: 0.0790 - val_loss: 43.7786 - val_categorical_accuracy: 0.1150\n",
      "Epoch 9/10\n",
      "10/10 [==============================] - 0s 4ms/step - loss: 48.8338 - categorical_accuracy: 0.0940 - val_loss: 54.7319 - val_categorical_accuracy: 0.1250\n",
      "Epoch 10/10\n",
      "10/10 [==============================] - 0s 4ms/step - loss: 60.6850 - categorical_accuracy: 0.0960 - val_loss: 67.5840 - val_categorical_accuracy: 0.1150\n"
     ]
    },
    {
     "data": {
      "text/plain": [
       "<keras.callbacks.History at 0x1bda5a41188>"
      ]
     },
     "execution_count": 5,
     "metadata": {},
     "output_type": "execute_result"
    }
   ],
   "source": [
    "import numpy as np\n",
    "\n",
    "train_x = np.random.random((1000, 72))\n",
    "train_y = np.random.random((1000, 10))\n",
    "val_x = np.random.random((200, 72))\n",
    "val_y = np.random.random((200, 10))\n",
    "model.fit(train_x, train_y, epochs=10, batch_size=100,\n",
    "          validation_data=(val_x, val_y))"
   ]
  },
  {
   "cell_type": "markdown",
   "metadata": {},
   "source": [
    "### 3.3 tf.data输入数据\n",
    "对于大型数据集可以使用tf.data构建训练输入。"
   ]
  },
  {
   "cell_type": "code",
   "execution_count": 6,
   "metadata": {},
   "outputs": [
    {
     "name": "stdout",
     "output_type": "stream",
     "text": [
      "Epoch 1/10\n",
      "30/30 [==============================] - 0s 5ms/step - loss: 91.0570 - categorical_accuracy: 0.1000 - val_loss: 119.5591 - val_categorical_accuracy: 0.0833\n",
      "Epoch 2/10\n",
      "30/30 [==============================] - 0s 2ms/step - loss: 149.0371 - categorical_accuracy: 0.0940 - val_loss: 187.4500 - val_categorical_accuracy: 0.0938\n",
      "Epoch 3/10\n",
      "30/30 [==============================] - 0s 2ms/step - loss: 222.6545 - categorical_accuracy: 0.0983 - val_loss: 269.8352 - val_categorical_accuracy: 0.1146\n",
      "Epoch 4/10\n",
      "30/30 [==============================] - 0s 2ms/step - loss: 311.5627 - categorical_accuracy: 0.0919 - val_loss: 370.2441 - val_categorical_accuracy: 0.1771\n",
      "Epoch 5/10\n",
      "30/30 [==============================] - 0s 2ms/step - loss: 415.1219 - categorical_accuracy: 0.1004 - val_loss: 483.1056 - val_categorical_accuracy: 0.1562\n",
      "Epoch 6/10\n",
      "30/30 [==============================] - 0s 2ms/step - loss: 530.7856 - categorical_accuracy: 0.1132 - val_loss: 603.1443 - val_categorical_accuracy: 0.0729\n",
      "Epoch 7/10\n",
      "30/30 [==============================] - 0s 2ms/step - loss: 654.1028 - categorical_accuracy: 0.1090 - val_loss: 730.3807 - val_categorical_accuracy: 0.0729\n",
      "Epoch 8/10\n",
      "30/30 [==============================] - 0s 2ms/step - loss: 778.9149 - categorical_accuracy: 0.1036 - val_loss: 861.2004 - val_categorical_accuracy: 0.1354\n",
      "Epoch 9/10\n",
      "30/30 [==============================] - 0s 2ms/step - loss: 906.9516 - categorical_accuracy: 0.1100 - val_loss: 986.5007 - val_categorical_accuracy: 0.0833\n",
      "Epoch 10/10\n",
      "30/30 [==============================] - 0s 3ms/step - loss: 1022.2416 - categorical_accuracy: 0.1079 - val_loss: 1092.6985 - val_categorical_accuracy: 0.1458\n"
     ]
    },
    {
     "data": {
      "text/plain": [
       "<keras.callbacks.History at 0x1bda6cbf488>"
      ]
     },
     "execution_count": 6,
     "metadata": {},
     "output_type": "execute_result"
    }
   ],
   "source": [
    "datasets = tf.data.Dataset.from_tensor_slices((train_x, train_y)).batch(32)\n",
    "datasets = datasets.repeat()\n",
    "val_datasets = tf.data.Dataset.from_tensor_slices((val_x, val_y)).batch(32)\n",
    "val_datasets = val_datasets.repeat()\n",
    "\n",
    "model.fit(datasets, epochs=10, steps_per_epoch=30, validation_data=val_datasets, validation_steps=3)"
   ]
  },
  {
   "cell_type": "markdown",
   "metadata": {},
   "source": [
    "### 3.4 评估与预测\n",
    "评估和预测函数：tf.keras.Model.evaluate和tf.keras.Model.predict方法，都可以使用NumPy和tf.data.Dataset构造的输入数据进行评估和预测"
   ]
  },
  {
   "cell_type": "code",
   "execution_count": 7,
   "metadata": {},
   "outputs": [
    {
     "name": "stdout",
     "output_type": "stream",
     "text": [
      "32/32 [==============================] - 0s 1ms/step - loss: 1087.1525 - categorical_accuracy: 0.0930\n",
      "30/30 [==============================] - 0s 1ms/step - loss: 1086.2156 - categorical_accuracy: 0.0917\n"
     ]
    },
    {
     "data": {
      "text/plain": [
       "[1086.215576171875, 0.09166666865348816]"
      ]
     },
     "execution_count": 7,
     "metadata": {},
     "output_type": "execute_result"
    }
   ],
   "source": [
    "# 模型评估\n",
    "test_x = np.random.random((1000, 72))\n",
    "test_y = np.random.random((1000, 10))\n",
    "model.evaluate(test_x, test_y, batch_size=32)\n",
    "test_data = tf.data.Dataset.from_tensor_slices((test_x, test_y))\n",
    "test_data = test_data.batch(32).repeat()\n",
    "model.evaluate(test_data, steps=30)"
   ]
  },
  {
   "cell_type": "code",
   "execution_count": 9,
   "metadata": {},
   "outputs": [
    {
     "name": "stdout",
     "output_type": "stream",
     "text": [
      "[[0.         0.16240874 0.08368254 ... 0.00671651 0.         0.        ]\n",
      " [0.         0.08923861 0.05535543 ... 0.00927343 0.         0.        ]\n",
      " [0.         0.15965922 0.06607018 ... 0.00557643 0.         0.        ]\n",
      " ...\n",
      " [0.         0.12314524 0.06737925 ... 0.00542385 0.         0.        ]\n",
      " [0.         0.15415026 0.08174875 ... 0.00448536 0.         0.        ]\n",
      " [0.         0.13542601 0.07227626 ... 0.00791746 0.         0.        ]]\n"
     ]
    }
   ],
   "source": [
    "# 模型预测\n",
    "result = model.predict(test_x, batch_size=32)\n",
    "print(result)"
   ]
  },
  {
   "cell_type": "markdown",
   "metadata": {},
   "source": [
    "## 4 构建复杂模型\n",
    "\n",
    "### 4.1 函数式API\n",
    "tf.keras.Sequential 模型是层的简单堆叠，无法表示任意模型。使用 Keras的函数式API可以构建复杂的模型拓扑，例如：\n",
    "\n",
    "- 多输入模型，\n",
    "\n",
    "- 多输出模型，\n",
    "\n",
    "- 具有共享层的模型（同一层被调用多次），\n",
    "\n",
    "- 具有非序列数据流的模型（例如，残差连接）。\n",
    "\n",
    "**使用函数式 API 构建的模型具有以下特征：**\n",
    "\n",
    "- 层实例可调用并返回张量。\n",
    "- 输入张量和输出张量用于定义 tf.keras.Model 实例。\n",
    "- 此模型的训练方式和 Sequential 模型一样。"
   ]
  },
  {
   "cell_type": "code",
   "execution_count": 8,
   "metadata": {},
   "outputs": [
    {
     "name": "stdout",
     "output_type": "stream",
     "text": [
      "Epoch 1/5\n",
      "32/32 [==============================] - 0s 1ms/step - loss: 11.6681 - accuracy: 0.0830\n",
      "Epoch 2/5\n",
      "32/32 [==============================] - 0s 1ms/step - loss: 12.4798 - accuracy: 0.0890\n",
      "Epoch 3/5\n",
      "32/32 [==============================] - 0s 1ms/step - loss: 18.4922 - accuracy: 0.1080\n",
      "Epoch 4/5\n",
      "32/32 [==============================] - 0s 1ms/step - loss: 34.0738 - accuracy: 0.1130\n",
      "Epoch 5/5\n",
      "32/32 [==============================] - 0s 1ms/step - loss: 61.9721 - accuracy: 0.1050\n"
     ]
    },
    {
     "data": {
      "text/plain": [
       "<keras.callbacks.History at 0x1bda7e14348>"
      ]
     },
     "execution_count": 8,
     "metadata": {},
     "output_type": "execute_result"
    }
   ],
   "source": [
    "input_x = tf.keras.Input(shape=(72, ))\n",
    "hidden1 = layers.Dense(32, activation='relu')(input_x)\n",
    "hidden2 = layers.Dense(16, activation='relu')(hidden1)\n",
    "pred = layers.Dense(10, activation='softmax')(hidden2)\n",
    "# 构建tf.keras.Model示例\n",
    "model = tf.keras.Model(inputs=input_x, outputs=pred)\n",
    "model.compile(optimizer=tf.keras.optimizers.Adam(0.001), \n",
    "            loss=tf.keras.losses.categorical_crossentropy,\n",
    "            metrics=['accuracy'])\n",
    "model.fit(train_x, train_y, batch_size=32, epochs=5)"
   ]
  },
  {
   "cell_type": "markdown",
   "metadata": {},
   "source": [
    "## 4.2 模型子类化\n",
    "可以通过对tf.keras.Model进行子类化并定义自己的前向传播构建完全自定义的模型\n",
    "- 在__init__方法中创建层并将他们设置为类示例的属性\n",
    "- 在__call___方法中定义前向传播"
   ]
  },
  {
   "cell_type": "code",
   "execution_count": 9,
   "metadata": {},
   "outputs": [
    {
     "name": "stdout",
     "output_type": "stream",
     "text": [
      "Epoch 1/5\n",
      "63/63 [==============================] - 0s 1ms/step - loss: 14.7771 - accuracy: 0.0930\n",
      "Epoch 2/5\n",
      "63/63 [==============================] - 0s 1ms/step - loss: 21.9342 - accuracy: 0.0940\n",
      "Epoch 3/5\n",
      "63/63 [==============================] - 0s 1ms/step - loss: 26.3706 - accuracy: 0.0940\n",
      "Epoch 4/5\n",
      "63/63 [==============================] - 0s 1ms/step - loss: 29.8917 - accuracy: 0.1000\n",
      "Epoch 5/5\n",
      "63/63 [==============================] - 0s 1ms/step - loss: 33.7799 - accuracy: 0.1000\n"
     ]
    },
    {
     "data": {
      "text/plain": [
       "<keras.callbacks.History at 0x1bda7f1af48>"
      ]
     },
     "execution_count": 9,
     "metadata": {},
     "output_type": "execute_result"
    }
   ],
   "source": [
    "class MyModel(tf.keras.Model):\n",
    "    def __init__(self, num_classes=10):\n",
    "        super(MyModel, self).__init__(name='my_model')\n",
    "        self.num_classes = num_classes\n",
    "        # 定义网络层\n",
    "        self.layer1 = layers.Dense(32, activation='relu')\n",
    "        self.layer2 = layers.Dense(num_classes, activation='softmax')\n",
    "    \n",
    "    def call(self, inputs):\n",
    "        # 定义前向传播\n",
    "        h1 = self.layer1(inputs)\n",
    "        out = self.layer2(h1)\n",
    "        return out\n",
    "    \n",
    "    def compute_output_shape(self, input_shape):\n",
    "        # 计算输出的shape\n",
    "        shape = tf.TensorShape(input_shape).as_list()\n",
    "        shape[-1] = self.num_classes\n",
    "        return tf.TensorShape(shape)\n",
    "\n",
    "# 实例化模型类并训练\n",
    "model = MyModel(num_classes=10)\n",
    "model.compile(optimizer=tf.keras.optimizers.RMSprop(0.001),\n",
    "            loss=tf.keras.losses.categorical_crossentropy,\n",
    "            metrics=['accuracy'])\n",
    "model.fit(train_x, train_y, batch_size=16, epochs=5)"
   ]
  },
  {
   "cell_type": "markdown",
   "metadata": {},
   "source": [
    "## 4.3 自定义层\n",
    "通过对tf.keras.layers.Layer进行子类化并实现以下方法来创建自定义层\n",
    "- __init__: 定义该层要使用的子层\n",
    "- build: 创建层的权重,使用add_weight方式添加权重\n",
    "- call: 定义前向传播\n",
    "- compute_output_shape: 指定在给定输入形状的情况下如何计算层的输出形状\n",
    "- 可选,可以通过实现get_config和from_config类方法序列化层"
   ]
  },
  {
   "cell_type": "code",
   "execution_count": 11,
   "metadata": {},
   "outputs": [
    {
     "name": "stdout",
     "output_type": "stream",
     "text": [
      "Epoch 1/5\n",
      "63/63 [==============================] - 0s 1ms/step - loss: 11.4863 - accuracy: 0.0880\n",
      "Epoch 2/5\n",
      "63/63 [==============================] - 0s 1ms/step - loss: 11.4852 - accuracy: 0.0840\n",
      "Epoch 3/5\n",
      "63/63 [==============================] - 0s 1ms/step - loss: 11.4847 - accuracy: 0.0810\n",
      "Epoch 4/5\n",
      "63/63 [==============================] - 0s 939us/step - loss: 11.4841 - accuracy: 0.0890\n",
      "Epoch 5/5\n",
      "63/63 [==============================] - 0s 1ms/step - loss: 11.4834 - accuracy: 0.0850\n"
     ]
    },
    {
     "data": {
      "text/plain": [
       "<keras.engine.sequential.Sequential at 0x1bda9097348>"
      ]
     },
     "execution_count": 11,
     "metadata": {},
     "output_type": "execute_result"
    }
   ],
   "source": [
    "from pickletools import optimize\n",
    "\n",
    "\n",
    "class MyLayer(layers.Layer):\n",
    "    def __init__(self, output_dim, **kwargs):\n",
    "        super(MyLayer, self).__init__(**kwargs)\n",
    "        self.output_dim = output_dim\n",
    "    \n",
    "    def build(self, input_shape):\n",
    "        shape = tf.TensorShape((input_shape[1], self.output_dim))\n",
    "        self.kernel = self.add_weight(name='kernel1', shape=shape, \n",
    "                                    initializer='uniform', trainable=True)\n",
    "        super(MyLayer, self).build(input_shape)\n",
    "    \n",
    "    def call(self, inputs):\n",
    "        return tf.matmul(inputs, self.kernel)\n",
    "    \n",
    "    def compute_output_shape(self, input_shape):\n",
    "        shape = tf.TensorShape(input_shape).as_list()\n",
    "        shape[-1] = self.output_dim\n",
    "        return tf.TensorShape(shape)\n",
    "    \n",
    "    def get_config(self):\n",
    "        base_config = super(MyLayer, self).get_config()\n",
    "        base_config['output_dim'] = self.output_dim\n",
    "        return base_config\n",
    "    \n",
    "    @classmethod\n",
    "    def from_config(cls, config):\n",
    "        return cls(**config)\n",
    "    \n",
    "# 使用自定义网络层构建模型\n",
    "model = tf.keras.Sequential([\n",
    "    MyLayer(10),\n",
    "    layers.Activation('softmax')\n",
    "])\n",
    "\n",
    "model.compile(optimizer=tf.keras.optimizers.RMSprop(0.001),\n",
    "            loss=tf.keras.losses.categorical_crossentropy,\n",
    "            metrics=['accuracy'])\n",
    "model.fit(train_x, train_y, batch_size=16, epochs=5)\n",
    "model"
   ]
  },
  {
   "cell_type": "markdown",
   "metadata": {},
   "source": [
    "## 4.4 回调\n",
    "回调是传递给模型以自定义和扩展在训练期间的行为对象,我们可以编写自己的自定义回调函数,使用tf.keras.callbacks中的内置函数,常用的内置回调函数如下:\n",
    "- tf.keras.callbacks.ModelCheckpoint：定期保存模型的检查点。\n",
    "- tf.keras.callbacks.LearningRateScheduler：动态更改学习率。\n",
    "- tf.keras.callbacks.EarlyStopping：验证性能停止提高时进行中断培训。\n",
    "- tf.keras.callbacks.TensorBoard：使用TensorBoard监视模型的行为 。"
   ]
  },
  {
   "cell_type": "code",
   "execution_count": 12,
   "metadata": {},
   "outputs": [
    {
     "name": "stdout",
     "output_type": "stream",
     "text": [
      "Epoch 1/5\n",
      "63/63 [==============================] - 0s 5ms/step - loss: 11.4830 - accuracy: 0.0890 - val_loss: 11.6304 - val_accuracy: 0.0500\n",
      "Epoch 2/5\n",
      "63/63 [==============================] - 0s 2ms/step - loss: 11.4840 - accuracy: 0.0920 - val_loss: 11.6258 - val_accuracy: 0.0600\n",
      "Epoch 3/5\n",
      "63/63 [==============================] - 0s 2ms/step - loss: 11.4824 - accuracy: 0.0800 - val_loss: 11.6273 - val_accuracy: 0.0350\n",
      "Epoch 4/5\n",
      "63/63 [==============================] - 0s 2ms/step - loss: 11.4815 - accuracy: 0.0900 - val_loss: 11.6246 - val_accuracy: 0.0600\n",
      "Epoch 5/5\n",
      "63/63 [==============================] - 0s 2ms/step - loss: 11.4814 - accuracy: 0.0810 - val_loss: 11.6292 - val_accuracy: 0.0600\n"
     ]
    },
    {
     "data": {
      "text/plain": [
       "<keras.engine.sequential.Sequential at 0x1bda9097348>"
      ]
     },
     "execution_count": 12,
     "metadata": {},
     "output_type": "execute_result"
    }
   ],
   "source": [
    "callbacks = [\n",
    "    tf.keras.callbacks.EarlyStopping(patience=2, monitor='val_loss'),\n",
    "    tf.keras.callbacks.TensorBoard(log_dir='./logs')\n",
    "]\n",
    "model.fit(train_x, train_y, batch_size=16, epochs=5,\n",
    "        callbacks=callbacks, validation_data=(val_x, val_y))\n",
    "model"
   ]
  },
  {
   "cell_type": "markdown",
   "metadata": {},
   "source": [
    "## 5 模型保存与恢复\n",
    "5.1 权重保存"
   ]
  },
  {
   "cell_type": "code",
   "execution_count": 13,
   "metadata": {},
   "outputs": [],
   "source": [
    "model = tf.keras.Sequential([\n",
    "    layers.Dense(64, activation='relu', input_shape=(32,)),\n",
    "    layers.Dense(10, activation='softmax')\n",
    "])\n",
    "model.compile(optimizer=tf.keras.optimizers.Adam(0.001),\n",
    "            loss='categorical_crossentropy',\n",
    "            metrics=['accuracy'])"
   ]
  },
  {
   "cell_type": "code",
   "execution_count": 14,
   "metadata": {},
   "outputs": [],
   "source": [
    "# 权重保存与重载\n",
    "model.save_weights('./weights/model')\n",
    "model.load_weights('./weights/model')\n",
    "# 保存为h5格式\n",
    "model.save_weights('./model.h5', save_format='h5')\n",
    "model.load_weights('./model.h5')"
   ]
  },
  {
   "cell_type": "markdown",
   "metadata": {},
   "source": [
    "5.2 保存网络结构"
   ]
  },
  {
   "cell_type": "code",
   "execution_count": 15,
   "metadata": {},
   "outputs": [
    {
     "name": "stdout",
     "output_type": "stream",
     "text": [
      "{'backend': 'tensorflow',\n",
      " 'class_name': 'Sequential',\n",
      " 'config': {'layers': [{'class_name': 'InputLayer',\n",
      "                        'config': {'batch_input_shape': [None, 32],\n",
      "                                   'dtype': 'float32',\n",
      "                                   'name': 'dense_17_input',\n",
      "                                   'ragged': False,\n",
      "                                   'sparse': False}},\n",
      "                       {'class_name': 'Dense',\n",
      "                        'config': {'activation': 'relu',\n",
      "                                   'activity_regularizer': None,\n",
      "                                   'batch_input_shape': [None, 32],\n",
      "                                   'bias_constraint': None,\n",
      "                                   'bias_initializer': {'class_name': 'Zeros',\n",
      "                                                        'config': {}},\n",
      "                                   'bias_regularizer': None,\n",
      "                                   'dtype': 'float32',\n",
      "                                   'kernel_constraint': None,\n",
      "                                   'kernel_initializer': {'class_name': 'GlorotUniform',\n",
      "                                                          'config': {'seed': None}},\n",
      "                                   'kernel_regularizer': None,\n",
      "                                   'name': 'dense_17',\n",
      "                                   'trainable': True,\n",
      "                                   'units': 64,\n",
      "                                   'use_bias': True}},\n",
      "                       {'class_name': 'Dense',\n",
      "                        'config': {'activation': 'softmax',\n",
      "                                   'activity_regularizer': None,\n",
      "                                   'bias_constraint': None,\n",
      "                                   'bias_initializer': {'class_name': 'Zeros',\n",
      "                                                        'config': {}},\n",
      "                                   'bias_regularizer': None,\n",
      "                                   'dtype': 'float32',\n",
      "                                   'kernel_constraint': None,\n",
      "                                   'kernel_initializer': {'class_name': 'GlorotUniform',\n",
      "                                                          'config': {'seed': None}},\n",
      "                                   'kernel_regularizer': None,\n",
      "                                   'name': 'dense_18',\n",
      "                                   'trainable': True,\n",
      "                                   'units': 10,\n",
      "                                   'use_bias': True}}],\n",
      "            'name': 'sequential_4'},\n",
      " 'keras_version': '2.8.0'}\n"
     ]
    },
    {
     "data": {
      "text/plain": [
       "<keras.engine.sequential.Sequential at 0x1bda939ad88>"
      ]
     },
     "execution_count": 15,
     "metadata": {},
     "output_type": "execute_result"
    }
   ],
   "source": [
    "# 序列化成json\n",
    "import json\n",
    "import pprint\n",
    "json_str = model.to_json()\n",
    "pprint.pprint(json.loads(json_str))\n",
    "# 从json中重建模型\n",
    "fresh_model = tf.keras.models.model_from_json(json_str)\n",
    "fresh_model"
   ]
  },
  {
   "cell_type": "code",
   "execution_count": 18,
   "metadata": {},
   "outputs": [
    {
     "name": "stdout",
     "output_type": "stream",
     "text": [
      "{\"class_name\": \"Sequential\", \"config\": {\"name\": \"sequential_4\", \"layers\": [{\"class_name\": \"InputLayer\", \"config\": {\"batch_input_shape\": [null, 32], \"dtype\": \"float32\", \"sparse\": false, \"ragged\": false, \"name\": \"dense_17_input\"}}, {\"class_name\": \"Dense\", \"config\": {\"name\": \"dense_17\", \"trainable\": true, \"batch_input_shape\": [null, 32], \"dtype\": \"float32\", \"units\": 64, \"activation\": \"relu\", \"use_bias\": true, \"kernel_initializer\": {\"class_name\": \"GlorotUniform\", \"config\": {\"seed\": null}}, \"bias_initializer\": {\"class_name\": \"Zeros\", \"config\": {}}, \"kernel_regularizer\": null, \"bias_regularizer\": null, \"activity_regularizer\": null, \"kernel_constraint\": null, \"bias_constraint\": null}}, {\"class_name\": \"Dense\", \"config\": {\"name\": \"dense_18\", \"trainable\": true, \"dtype\": \"float32\", \"units\": 10, \"activation\": \"softmax\", \"use_bias\": true, \"kernel_initializer\": {\"class_name\": \"GlorotUniform\", \"config\": {\"seed\": null}}, \"bias_initializer\": {\"class_name\": \"Zeros\", \"config\": {}}, \"kernel_regularizer\": null, \"bias_regularizer\": null, \"activity_regularizer\": null, \"kernel_constraint\": null, \"bias_constraint\": null}}]}, \"keras_version\": \"2.8.0\", \"backend\": \"tensorflow\"}\n"
     ]
    }
   ],
   "source": [
    "# 保持为json格式\n",
    "json_str = model.to_json()\n",
    "print(json_str)\n",
    "# 从yaml数据中重新构建模型\n",
    "fresh_model = tf.keras.models.model_from_json(json_str)"
   ]
  },
  {
   "cell_type": "markdown",
   "metadata": {},
   "source": [
    "5.3 保存整个模型"
   ]
  },
  {
   "cell_type": "code",
   "execution_count": 21,
   "metadata": {},
   "outputs": [
    {
     "name": "stdout",
     "output_type": "stream",
     "text": [
      "Epoch 1/5\n",
      "32/32 [==============================] - 0s 1ms/step - loss: 11.4931 - accuracy: 0.1070\n",
      "Epoch 2/5\n",
      "32/32 [==============================] - 0s 1ms/step - loss: 11.5729 - accuracy: 0.1010\n",
      "Epoch 3/5\n",
      "32/32 [==============================] - 0s 1ms/step - loss: 11.6380 - accuracy: 0.1020\n",
      "Epoch 4/5\n",
      "32/32 [==============================] - 0s 1ms/step - loss: 11.6564 - accuracy: 0.1020\n",
      "Epoch 5/5\n",
      "32/32 [==============================] - 0s 1ms/step - loss: 11.6617 - accuracy: 0.1020\n"
     ]
    }
   ],
   "source": [
    "model = tf.keras.Sequential([\n",
    "    layers.Dense(10, activation='softmax', input_shape=(72,)),\n",
    "    layers.Dense(10, activation='softmax')\n",
    "])\n",
    "model.compile(optimizer='rmsprop',\n",
    "            loss='categorical_crossentropy',\n",
    "            metrics=['accuracy'])\n",
    "model.fit(train_x, train_y, batch_size=32, epochs=5)\n",
    "# 保存整个模型\n",
    "model.save('all_model.h5')"
   ]
  },
  {
   "cell_type": "code",
   "execution_count": 22,
   "metadata": {},
   "outputs": [],
   "source": [
    "# 导入整个模型\n",
    "model = tf.keras.models.load_model('all_model.h5')"
   ]
  },
  {
   "cell_type": "markdown",
   "metadata": {},
   "source": [
    "## 6 将Keras用于Estimator\n",
    "Estimator API用于针对分布式环境训练模型, 它使适用一些行业使用场景,例如大型数据集进行分布式训练并导出模型用以生产"
   ]
  },
  {
   "cell_type": "code",
   "execution_count": 23,
   "metadata": {},
   "outputs": [
    {
     "name": "stdout",
     "output_type": "stream",
     "text": [
      "INFO:tensorflow:Using default config.\n",
      "WARNING:tensorflow:Using temporary folder as model directory: C:\\Users\\hongyang.w\\AppData\\Local\\Temp\\tmpf_cjd9y9\n",
      "INFO:tensorflow:Using the Keras model provided.\n",
      "INFO:tensorflow:Using config: {'_model_dir': 'C:\\\\Users\\\\hongyang.w\\\\AppData\\\\Local\\\\Temp\\\\tmpf_cjd9y9', '_tf_random_seed': None, '_save_summary_steps': 100, '_save_checkpoints_steps': None, '_save_checkpoints_secs': 600, '_session_config': allow_soft_placement: true\n",
      "graph_options {\n",
      "  rewrite_options {\n",
      "    meta_optimizer_iterations: ONE\n",
      "  }\n",
      "}\n",
      ", '_keep_checkpoint_max': 5, '_keep_checkpoint_every_n_hours': 10000, '_log_step_count_steps': 100, '_train_distribute': None, '_device_fn': None, '_protocol': None, '_eval_distribute': None, '_experimental_distribute': None, '_experimental_max_worker_delay_secs': None, '_session_creation_timeout_secs': 7200, '_checkpoint_save_graph_def': True, '_service': None, '_cluster_spec': ClusterSpec({}), '_task_type': 'worker', '_task_id': 0, '_global_id_in_cluster': 0, '_master': '', '_evaluation_master': '', '_is_chief': True, '_num_ps_replicas': 0, '_num_worker_replicas': 1}\n"
     ]
    }
   ],
   "source": [
    "model = tf.keras.Sequential([\n",
    "    layers.Dense(10, activation='softmax'),\n",
    "    layers.Dense(10, activation='softmax')\n",
    "])\n",
    "model.compile(\n",
    "    optimizer=tf.keras.optimizers.RMSprop(0.001),\n",
    "    loss='categorical_crossentropy',\n",
    "    metrics=['accuracy']\n",
    ")\n",
    "estimator = tf.keras.estimator.model_to_estimator(model)"
   ]
  },
  {
   "cell_type": "markdown",
   "metadata": {},
   "source": [
    "## 7 Eager execution\n",
    "Eager execution是一个动态执行的编程环境，它可以立即评估操作。Keras不需要此功能，但它受tf.keras程序支持和对检查程序和调试有用。\n",
    "\n",
    "所有的tf.keras模型构建API都与Eager execution兼容。尽管可以使用Sequential和函数API，但Eager execution有利于模型子类化和构建自定义层：其要求以代码形式编写前向传递的API（而不是通过组装现有层来创建模型的API）。"
   ]
  },
  {
   "cell_type": "markdown",
   "metadata": {},
   "source": [
    "## 8 多GPU上运行\n",
    "tf.keras模型可使用tf.distribute.Strategy在多个GPU上运行 。该API在多个GPU上提供了分布式培训，几乎无需更改现有代码。\n",
    "\n",
    "当前tf.distribute.MirroredStrategy是唯一受支持的分发策略。MirroredStrategy在单台计算机上使用全缩减进行同步训练来进行图内复制。要使用 distribute.Strategys，请将优化器实例化以及模型构建和编译嵌套在Strategys中.scope()，然后训练模型。\n",
    "\n",
    "以下示例tf.keras.Model在单个计算机上的多GPU分配。\n",
    "\n",
    "首先，在分布式策略范围内定义一个模型："
   ]
  },
  {
   "cell_type": "code",
   "execution_count": 24,
   "metadata": {},
   "outputs": [
    {
     "name": "stdout",
     "output_type": "stream",
     "text": [
      "WARNING:tensorflow:There are non-GPU devices in `tf.distribute.Strategy`, not using nccl allreduce.\n",
      "INFO:tensorflow:Using MirroredStrategy with devices ('/job:localhost/replica:0/task:0/device:CPU:0',)\n",
      "Model: \"sequential_8\"\n",
      "_________________________________________________________________\n",
      " Layer (type)                Output Shape              Param #   \n",
      "=================================================================\n",
      " dense_25 (Dense)            (None, 16)                176       \n",
      "                                                                 \n",
      " dense_26 (Dense)            (None, 1)                 17        \n",
      "                                                                 \n",
      "=================================================================\n",
      "Total params: 193\n",
      "Trainable params: 193\n",
      "Non-trainable params: 0\n",
      "_________________________________________________________________\n"
     ]
    }
   ],
   "source": [
    "strategy = tf.distribute.MirroredStrategy()\n",
    "with strategy.scope():\n",
    "    model = tf.keras.Sequential()\n",
    "    model.add(layers.Dense(16, activation='relu', input_shape=(10,)))\n",
    "    model.add(layers.Dense(1, activation='sigmoid'))\n",
    "    optimizer = tf.keras.optimizers.SGD(0.2)\n",
    "    model.compile(loss='binary_crossentropy', optimizer=optimizer)\n",
    "model.summary()"
   ]
  },
  {
   "cell_type": "code",
   "execution_count": 25,
   "metadata": {},
   "outputs": [
    {
     "name": "stdout",
     "output_type": "stream",
     "text": [
      "32/32 [==============================] - 0s 1ms/step - loss: 0.6988\n"
     ]
    },
    {
     "data": {
      "text/plain": [
       "<keras.callbacks.History at 0x1bdaa8689c8>"
      ]
     },
     "execution_count": 25,
     "metadata": {},
     "output_type": "execute_result"
    }
   ],
   "source": [
    "# 然后像单gpu一样在数据上训练模型即可\n",
    "x = np.random.random((1024, 10))\n",
    "y = np.random.randint(2, size=(1024, 1))\n",
    "x = tf.cast(x, tf.float32)\n",
    "dataset = tf.data.Dataset.from_tensor_slices((x, y))\n",
    "dataset = dataset.shuffle(buffer_size=1024).batch(32)\n",
    "model.fit(dataset, epochs=1)"
   ]
  },
  {
   "cell_type": "code",
   "execution_count": null,
   "metadata": {},
   "outputs": [],
   "source": []
  }
 ],
 "metadata": {
  "kernelspec": {
   "display_name": "Python 3.7.6 ('deeplearning')",
   "language": "python",
   "name": "python3"
  },
  "language_info": {
   "codemirror_mode": {
    "name": "ipython",
    "version": 3
   },
   "file_extension": ".py",
   "mimetype": "text/x-python",
   "name": "python",
   "nbconvert_exporter": "python",
   "pygments_lexer": "ipython3",
   "version": "3.7.6"
  },
  "orig_nbformat": 4,
  "vscode": {
   "interpreter": {
    "hash": "023baaff37797eaa8a2f2e10f49c0d526f113c2d8305b50570fb7b5099158b73"
   }
  }
 },
 "nbformat": 4,
 "nbformat_minor": 2
}
